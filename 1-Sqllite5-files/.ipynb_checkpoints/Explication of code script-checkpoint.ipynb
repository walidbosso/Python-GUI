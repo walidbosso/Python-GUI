{
 "cells": [
  {
   "cell_type": "markdown",
   "id": "9cedd9b6",
   "metadata": {},
   "source": [
    "# Explication of code script using Files"
   ]
  },
  {
   "cell_type": "markdown",
   "id": "6f501713",
   "metadata": {},
   "source": [
    "### @classmethod : method de classe, just use the class method directly instead of  first creating an Instance THEN use the method"
   ]
  },
  {
   "cell_type": "markdown",
   "id": "8dce1ce8",
   "metadata": {},
   "source": [
    "The `@classmethod` decorator is used in Python to define a method that operates on the class and not on instances of the class. It is used to create methods that are bound to the class and can be called on the class itself rather than on an instance of the class.\n",
    "\n",
    "In the provided context, I used `@classmethod` to define methods that can be accessed directly using the class name, like `Employee.create()` or `Product.read_all()`. It's essential to use `@classmethod` when defining a method that should have access to the class itself rather than its instances.\n",
    "\n",
    "If you don't use `@classmethod` and try to call the method directly on the class, you'll encounter a `TypeError`. Therefore, it's important to use `@classmethod` when you intend to define methods that work with the class itself."
   ]
  },
  {
   "cell_type": "markdown",
   "id": "9d557b02",
   "metadata": {},
   "source": [
    "### cls, when we use class instead of instance, we use cls instead of self"
   ]
  },
  {
   "cell_type": "markdown",
   "id": "54eddfcb",
   "metadata": {},
   "source": [
    "The parameter `cls` is a convention in Python that stands for the class itself. It is similar to the use of `self` as the first parameter in instance methods. While `self` is used to represent the instance of the class, `cls` is used to represent the class itself.\n",
    "\n",
    "When using class methods in Python, it is common to use `cls` as the first parameter to indicate that the method operates on the class rather than on an instance of the class. The `cls` parameter allows you to access the class itself within the method, which is particularly useful when dealing with class-level variables or when you need to call other class methods or constructors.\n",
    "\n",
    "Here's an example to illustrate its usage:\n",
    "\n",
    "```python\n",
    "class MyClass:\n",
    "    class_variable = \"Hello, I am a class variable\"\n",
    "\n",
    "    @classmethod\n",
    "    def class_method(cls):\n",
    "        print(cls.class_variable)\n",
    "\n",
    "# Calling the class method\n",
    "MyClass.class_method()\n",
    "```\n",
    "\n",
    "In the example above, the `class_method` is accessing the class variable `class_variable` using the `cls` parameter. This is a common convention in Python for distinguishing class-level operations from instance-level operations."
   ]
  },
  {
   "cell_type": "markdown",
   "id": "ab757f5b",
   "metadata": {},
   "source": [
    "---\n",
    "\n",
    "### line.strip.split : split converts string to list depending on the selector u wanna use"
   ]
  },
  {
   "cell_type": "markdown",
   "id": "41ac9408",
   "metadata": {},
   "source": [
    "Let's consider an example where we have a file called `example.txt` containing the following lines:\n",
    "\n",
    "```\n",
    "1,John Doe,50000,1234567890\n",
    "2,Jane Smith,60000,9876543210\n",
    "3,Michael Johnson,55000,5555555555\n",
    "```\n",
    "\n",
    "Now, let's use the code to read these lines and split each line into a list based on the commas:\n",
    "\n",
    "```python\n",
    "file_path = \"example.txt\"\n",
    "\n",
    "with open(file_path, 'r') as file:\n",
    "    for line in file:\n",
    "        data = line.strip().split(',')\n",
    "        print(data)\n",
    "```\n",
    "\n",
    "The output will be:\n",
    "\n",
    "```\n",
    "['1', 'John Doe', '50000', '1234567890']\n",
    "['2', 'Jane Smith', '60000', '9876543210']\n",
    "['3', 'Michael Johnson', '55000', '5555555555']\n",
    "```\n",
    "\n",
    "Here, the `strip()` method removes any leading or trailing whitespace or newline characters, and the `split(',')` method splits the line into different elements based on the position of the commas. As a result, the variable `data` becomes a list containing the individual elements of each line.\n"
   ]
  },
  {
   "cell_type": "markdown",
   "id": "2be592aa",
   "metadata": {},
   "source": [
    "### strip : removes spaces from beginning and end of string"
   ]
  },
  {
   "cell_type": "markdown",
   "id": "951cd386",
   "metadata": {},
   "source": [
    "Leading whitespace refers to any spaces, tabs, or other whitespace characters that appear at the beginning of a string, while trailing whitespace refers to those that appear at the end of a string. These whitespace characters are not visible and can affect the formatting or processing of the string.\n",
    "\n",
    "The `strip()` method in Python is used to remove any leading and trailing whitespace characters from a string. If no specific characters are provided as an argument to `strip()`, it will remove all leading and trailing whitespace characters, including spaces, tabs, and newline characters.\n",
    "\n",
    "For example:\n",
    "\n",
    "```python\n",
    "string_with_whitespace = \"  Hello, this is a string with whitespace.   \\n\"\n",
    "stripped_string = string_with_whitespace.strip()\n",
    "print(stripped_string)\n",
    "```\n",
    "\n",
    "Output:\n",
    "```\n",
    "Hello, this is a string with whitespace.\n",
    "```\n",
    "\n",
    "In the context of reading files, the `strip()` method is often used to clean up the input data by removing any unwanted leading or trailing whitespace, ensuring that the data is processed correctly."
   ]
  },
  {
   "cell_type": "markdown",
   "id": "6dbaf457",
   "metadata": {},
   "source": [
    "---\n",
    "### f\" and {} f-string"
   ]
  },
  {
   "cell_type": "markdown",
   "id": "cb1669fa",
   "metadata": {},
   "source": [
    "In the line of code `data.append(f\"{new_data['id']},{new_data['first_name']},{new_data['last_name']},{new_data['number']}\\n\")`, the `f` before the string indicates that it's an f-string, a formatting mechanism in Python that allows you to embed expressions inside string literals.\n",
    "\n",
    "The curly braces `{}` within the f-string are used to represent the placeholders for the values of the variables. In this context, `new_data` is a dictionary, and we are accessing its elements by key to get the values. The values are then inserted into the string at their respective positions, separated by commas.\n",
    "\n",
    "For example, if `new_data` contains the following values:\n",
    "\n",
    "```python\n",
    "new_data = {'id': '1', 'first_name': 'John', 'last_name': 'Doe', 'number': '1234567890'}\n",
    "```\n",
    "\n",
    "The f-string will be formatted as follows:\n",
    "\n",
    "```python\n",
    "data.append(f\"{new_data['id']},{new_data['first_name']},{new_data['last_name']},{new_data['number']}\\n\")\n",
    "```\n",
    "\n",
    "This will result in a string like `\"1,John,Doe,1234567890\\n\"`, which will be appended to the list `data`. This approach is commonly used to format strings dynamically using the values from variables or dictionaries.\n",
    "\n",
    "---\n",
    "\n",
    "It's not necessary to use an f-string for formatting. There are other ways to format strings in Python, such as using the `format()` method or the `%` operator. For example, you could achieve the same result as before without using an f-string:\n",
    "\n",
    "```python\n",
    "data.append(\"{},{},{},{}\\n\".format(new_data['id'], new_data['first_name'], new_data['last_name'], new_data['number']))\n",
    "```\n",
    "\n",
    "or using the `%` operator:\n",
    "\n",
    "```python\n",
    "data.append(\"%s,%s,%s,%s\\n\" % (new_data['id'], new_data['first_name'], new_data['last_name'], new_data['number']))\n",
    "```\n",
    "\n",
    "Both of these methods achieve the same result by inserting the values of the variables into the string at the desired positions. However, f-strings are often preferred for their simplicity and readability, as they provide a more concise and intuitive way to format strings in Python, especially when working with variables and expressions."
   ]
  },
  {
   "cell_type": "code",
   "execution_count": null,
   "id": "42515ddf",
   "metadata": {},
   "outputs": [],
   "source": []
  }
 ],
 "metadata": {
  "kernelspec": {
   "display_name": "Python 3 (ipykernel)",
   "language": "python",
   "name": "python3"
  },
  "language_info": {
   "codemirror_mode": {
    "name": "ipython",
    "version": 3
   },
   "file_extension": ".py",
   "mimetype": "text/x-python",
   "name": "python",
   "nbconvert_exporter": "python",
   "pygments_lexer": "ipython3",
   "version": "3.7.13"
  }
 },
 "nbformat": 4,
 "nbformat_minor": 5
}
